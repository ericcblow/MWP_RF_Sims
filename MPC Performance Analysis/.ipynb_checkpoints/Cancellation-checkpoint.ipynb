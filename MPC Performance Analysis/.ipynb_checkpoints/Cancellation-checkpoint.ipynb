{
 "cells": [
  {
   "cell_type": "code",
   "execution_count": null,
   "metadata": {},
   "outputs": [],
   "source": [
    "%load_ext autoreload\n",
    "import matplotlib.pyplot as plt\n",
    "import numpy as np\n",
    "from matplotlib.ticker import LinearLocator\n",
    "from matplotlib import cm\n",
    "import pickle\n",
    "from mpl_toolkits.mplot3d import Axes3D\n",
    "isSaving = True"
   ]
  },
  {
   "cell_type": "code",
   "execution_count": null,
   "metadata": {},
   "outputs": [],
   "source": [
    "# Transfer function \n",
    "\n",
    "def interference(amp, phs):\n",
    "    return (1 + amp**2 - 2*amp*np.cos(phs))\n",
    "\n",
    "def sweep_interference(amp, phs):\n",
    "    no_dp = len(amp)\n",
    "    \n",
    "    arr = np.ones((no_dp, no_dp))\n",
    "        \n",
    "    for i in range(no_dp):\n",
    "        arr[i] = 1 + amp[i]**2 - 2*amp[i]*np.cos(phs*np.pi/180)\n",
    "    \n",
    "    return arr\n",
    "    \n",
    "    \n",
    "def get_interference_data(amp_mismatch, phs_mismatch):\n",
    "    if amp_mismatch.size == phs_mismatch.size:\n",
    "        return (1 + amp_mismatch**2 - 2*amp_mismatch)#*np.cos(phs_mismatch))\n",
    "    else:\n",
    "        print(\"Array sizes do not match\")\n",
    "        print(\"amp_arr_size: \", amp_mismatch.size)\n",
    "        print(\"phs_arr_size: \", phs_mismatch.size)\n",
    "        return 0"
   ]
  },
  {
   "cell_type": "code",
   "execution_count": null,
   "metadata": {},
   "outputs": [],
   "source": []
  },
  {
   "cell_type": "code",
   "execution_count": null,
   "metadata": {},
   "outputs": [],
   "source": [
    "no_dp = 1000\n",
    "\n",
    "t_amp_log = np.logspace(-4,0, num=no_dp) #db\n",
    "t_phs_log = np.logspace(-2,1, num=no_dp) #db\n",
    "\n",
    "# 20*log10(x)\n",
    "\n",
    "t_amp = 10**(t_amp_log/10)\n",
    "\n",
    "\n",
    "t_001 = sweep_interference(t_amp, t_phs_log)\n",
    "t_001_db = 10*np.log10(t_001)\n"
   ]
  },
  {
   "cell_type": "code",
   "execution_count": null,
   "metadata": {},
   "outputs": [],
   "source": [
    "# t_phs_log"
   ]
  },
  {
   "cell_type": "code",
   "execution_count": null,
   "metadata": {},
   "outputs": [],
   "source": [
    "fs = 12\n",
    "dpi_res = 300"
   ]
  },
  {
   "cell_type": "code",
   "execution_count": null,
   "metadata": {},
   "outputs": [],
   "source": [
    "fig,ax = plt.subplots(1,1, figsize=(7,5))\n",
    "X, Y = np.meshgrid(t_amp_log, t_phs_log)\n",
    "cp = ax.contourf(X, Y, t_001_db, cmap = 'viridis')\n",
    "cbar = fig.colorbar(cp)\n",
    "cbar.ax.set_ylabel('Cancellation (dB)',fontsize =fs)\n",
    "# ax.set_title('Cancellation')\n",
    "ax.set_xlabel('Amplitude Mismatch (dB)',fontsize =fs)\n",
    "ax.set_ylabel('Phase Mismatch (dB)',fontsize =fs)\n",
    "ax.set_yscale('log')\n",
    "ax.set_xscale('log')\n",
    "if isSaving:\n",
    "    outputFile = 'CancellationContour.pdf'\n",
    "    plt.savefig(outputFile, format='pdf', dpi=dpi_res, bbox_inches='tight')\n",
    "plt.show()\n",
    "print(np.min(t_001_db))\n"
   ]
  },
  {
   "cell_type": "code",
   "execution_count": null,
   "metadata": {},
   "outputs": [],
   "source": []
  },
  {
   "cell_type": "code",
   "execution_count": null,
   "metadata": {},
   "outputs": [],
   "source": [
    "no_dp=500\n",
    "\n",
    "t_amp_neg_log = np.logspace(-4,0, num=no_dp) #db\n",
    "t_amp_pos_log = np.logspace(-4,0, num=no_dp) #db\n",
    "t_amp_np_log = np.concatenate((t_amp_neg_log[::-1],t_amp_pos_log),axis=0)\n",
    "t_amp_np_log_plotting = np.concatenate((-1*t_amp_neg_log[::-1],t_amp_pos_log),axis=0)\n",
    "\n",
    "t_phs_neg_log = np.logspace(-2,1, num=no_dp) #db\n",
    "t_phs_pos_log = np.logspace(-2,1, num=no_dp) #db\n",
    "t_phs_np_log = np.concatenate((t_phs_neg_log[::-1],t_phs_pos_log),axis=0)\n",
    "t_phs_np_log_plotting = np.concatenate((-1*t_phs_neg_log[::-1],t_phs_pos_log),axis=0)\n",
    "\n",
    "\n",
    "t_amp2 = 10**(t_amp_np_log/10)\n",
    "\n",
    "cancellation = np.zeros((int(2*no_dp),int(2*no_dp)))\n",
    "for i in range(int(2*no_dp)):\n",
    "    for j in range(int(2*no_dp)):\n",
    "        cancellation[i,j] = 10*np.log10(1 + t_amp2[i]**2 - 2*t_amp2[i]*np.cos(t_phs_np_log[j]*np.pi/180))\n",
    "        \n",
    "\n",
    "\n",
    "X, Y = np.meshgrid(t_amp_np_log_plotting, t_phs_np_log_plotting)"
   ]
  },
  {
   "cell_type": "code",
   "execution_count": null,
   "metadata": {},
   "outputs": [],
   "source": [
    "### Make it 3d\n",
    "fig, ax = plt.subplots(subplot_kw={\"projection\": \"3d\"}, figsize=(10,10))\n",
    "surf = ax.plot_surface(X, Y, cancellation, cmap='viridis',\n",
    "                       linewidth=0.1, antialiased=True,edgecolor ='none')\n",
    "\n",
    "cbar =fig.colorbar(surf, ax = ax,\n",
    "             shrink = 0.5, aspect = 10)\n",
    "cbar.ax.set_ylabel('Cancellation (dB)',fontsize =fs)\n",
    "ax.set_xlabel('Amplitude Mismatch (dB)',fontsize =fs)\n",
    "ax.set_ylabel('Phase Mismatch (dB)',fontsize =fs)\n",
    "ax.set_zlabel('Cancellation (dB)',fontsize =fs)\n",
    "\n",
    "cset = ax.contourf(X, Y, cancellation,\n",
    "                   zdir ='z',\n",
    "                   offset = np.min(cancellation),\n",
    "                   cmap='viridis')\n",
    "\n",
    "if isSaving:\n",
    "    outputFile = 'CancellationSurface.pdf'\n",
    "    plt.savefig(outputFile, format='pdf', dpi=dpi_res, bbox_inches='tight')\n",
    "\n",
    "plt.show()"
   ]
  },
  {
   "cell_type": "code",
   "execution_count": null,
   "metadata": {},
   "outputs": [],
   "source": [
    "### Make it 3d\n",
    "# getting the original colormap using cm.get_cmap() function\n",
    "orig_map=plt.cm.get_cmap('plasma')\n",
    "  \n",
    "# reversing the original colormap using reversed() function\n",
    "reversed_map = orig_map.reversed()\n",
    "\n",
    "\n",
    "fig, ax = plt.subplots(subplot_kw={\"projection\": \"3d\"}, figsize=(10,10))\n",
    "surf = ax.plot_surface(X, Y, cancellation, cmap=reversed_map,\n",
    "                       linewidth=0.1, antialiased=True,edgecolor ='none')\n",
    "\n",
    "cbar =fig.colorbar(surf, ax = ax,\n",
    "             shrink = 0.5, aspect = 10)\n",
    "cbar.ax.set_ylabel('Cancellation (dB)',fontsize =fs)\n",
    "ax.set_xlabel('Amplitude Mismatch (dB)',fontsize =fs)\n",
    "ax.set_ylabel('Phase Mismatch (dB)',fontsize =fs)\n",
    "ax.set_zlabel('Cancellation (dB)',fontsize =fs)\n",
    "\n",
    "cset = ax.contourf(X, Y, cancellation,\n",
    "                   zdir ='z',\n",
    "                   offset = np.min(cancellation),\n",
    "                   cmap=reversed_map)\n",
    "\n",
    "# if isSaving:\n",
    "#     outputFile = 'CancellationSurface.pdf'\n",
    "#     plt.savefig(outputFile, format='pdf', dpi=dpi_res, bbox_inches='tight')\n",
    "\n",
    "plt.show()"
   ]
  },
  {
   "cell_type": "code",
   "execution_count": null,
   "metadata": {},
   "outputs": [],
   "source": []
  },
  {
   "cell_type": "code",
   "execution_count": null,
   "metadata": {},
   "outputs": [],
   "source": []
  }
 ],
 "metadata": {
  "kernelspec": {
   "display_name": "Python 3 (ipykernel)",
   "language": "python",
   "name": "python3"
  },
  "language_info": {
   "codemirror_mode": {
    "name": "ipython",
    "version": 3
   },
   "file_extension": ".py",
   "mimetype": "text/x-python",
   "name": "python",
   "nbconvert_exporter": "python",
   "pygments_lexer": "ipython3",
   "version": "3.9.7"
  }
 },
 "nbformat": 4,
 "nbformat_minor": 4
}
